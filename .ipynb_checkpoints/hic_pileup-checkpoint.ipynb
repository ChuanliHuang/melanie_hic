{
 "cells": [
  {
   "cell_type": "markdown",
   "id": "b39a98d1-4768-4bbb-bbd8-f7216d2f064b",
   "metadata": {},
   "source": [
    "# Plot centromere pileup ratio\n",
    "## Library"
   ]
  },
  {
   "cell_type": "code",
   "execution_count": 50,
   "id": "f9ed91ae-d9d9-467e-b42b-4cc8ea388414",
   "metadata": {},
   "outputs": [],
   "source": [
    "# import standard python libraries\n",
    "import numpy as np\n",
    "import matplotlib.pyplot as plt\n",
    "import pandas as pd\n",
    "import seaborn as sns"
   ]
  },
  {
   "cell_type": "code",
   "execution_count": 51,
   "id": "32a2c54b-7689-475b-9c99-da8a9b8bfb4b",
   "metadata": {},
   "outputs": [],
   "source": [
    "# import libraries for biological data analysis\n",
    "import cooler\n",
    "import bioframe\n",
    "\n",
    "import cooltools\n",
    "\n",
    "from packaging import version\n",
    "if version.parse(cooltools.__version__) < version.parse('0.5.2'):\n",
    "    raise AssertionError(\"tutorials rely on cooltools version 0.5.2 or higher,\"+\n",
    "                         \"please check your cooltools version and update to the latest\")"
   ]
  },
  {
   "cell_type": "markdown",
   "id": "7b4c325f-b185-48df-b1a4-67b019bedba5",
   "metadata": {},
   "source": [
    "## Parameters"
   ]
  },
  {
   "cell_type": "code",
   "execution_count": 52,
   "id": "f8d1132e-abf6-401a-82d4-44b3c6a48403",
   "metadata": {},
   "outputs": [],
   "source": [
    "flank = 25_000"
   ]
  },
  {
   "cell_type": "markdown",
   "id": "bda62dfd-dd8c-439a-a836-dac43c2a2b41",
   "metadata": {},
   "source": [
    "## Load data"
   ]
  },
  {
   "cell_type": "code",
   "execution_count": 65,
   "id": "dbc4762b-7b45-4e73-a873-52290fceef3d",
   "metadata": {},
   "outputs": [
    {
     "data": {
      "text/html": [
       "<div>\n",
       "<style scoped>\n",
       "    .dataframe tbody tr th:only-of-type {\n",
       "        vertical-align: middle;\n",
       "    }\n",
       "\n",
       "    .dataframe tbody tr th {\n",
       "        vertical-align: top;\n",
       "    }\n",
       "\n",
       "    .dataframe thead th {\n",
       "        text-align: right;\n",
       "    }\n",
       "</style>\n",
       "<table border=\"1\" class=\"dataframe\">\n",
       "  <thead>\n",
       "    <tr style=\"text-align: right;\">\n",
       "      <th></th>\n",
       "      <th>chrom</th>\n",
       "      <th>start</th>\n",
       "      <th>end</th>\n",
       "      <th>weight</th>\n",
       "    </tr>\n",
       "  </thead>\n",
       "  <tbody>\n",
       "    <tr>\n",
       "      <th>0</th>\n",
       "      <td>chrI</td>\n",
       "      <td>0</td>\n",
       "      <td>10000</td>\n",
       "      <td>0.005593</td>\n",
       "    </tr>\n",
       "    <tr>\n",
       "      <th>1</th>\n",
       "      <td>chrI</td>\n",
       "      <td>10000</td>\n",
       "      <td>20000</td>\n",
       "      <td>NaN</td>\n",
       "    </tr>\n",
       "    <tr>\n",
       "      <th>2</th>\n",
       "      <td>chrI</td>\n",
       "      <td>20000</td>\n",
       "      <td>30000</td>\n",
       "      <td>NaN</td>\n",
       "    </tr>\n",
       "    <tr>\n",
       "      <th>3</th>\n",
       "      <td>chrI</td>\n",
       "      <td>30000</td>\n",
       "      <td>40000</td>\n",
       "      <td>NaN</td>\n",
       "    </tr>\n",
       "    <tr>\n",
       "      <th>4</th>\n",
       "      <td>chrI</td>\n",
       "      <td>40000</td>\n",
       "      <td>50000</td>\n",
       "      <td>0.004846</td>\n",
       "    </tr>\n",
       "    <tr>\n",
       "      <th>5</th>\n",
       "      <td>chrI</td>\n",
       "      <td>50000</td>\n",
       "      <td>60000</td>\n",
       "      <td>0.004110</td>\n",
       "    </tr>\n",
       "    <tr>\n",
       "      <th>6</th>\n",
       "      <td>chrI</td>\n",
       "      <td>60000</td>\n",
       "      <td>70000</td>\n",
       "      <td>0.004249</td>\n",
       "    </tr>\n",
       "    <tr>\n",
       "      <th>7</th>\n",
       "      <td>chrI</td>\n",
       "      <td>70000</td>\n",
       "      <td>80000</td>\n",
       "      <td>0.004334</td>\n",
       "    </tr>\n",
       "    <tr>\n",
       "      <th>8</th>\n",
       "      <td>chrI</td>\n",
       "      <td>80000</td>\n",
       "      <td>90000</td>\n",
       "      <td>0.004020</td>\n",
       "    </tr>\n",
       "    <tr>\n",
       "      <th>9</th>\n",
       "      <td>chrI</td>\n",
       "      <td>90000</td>\n",
       "      <td>100000</td>\n",
       "      <td>0.004049</td>\n",
       "    </tr>\n",
       "  </tbody>\n",
       "</table>\n",
       "</div>"
      ],
      "text/plain": [
       "  chrom  start     end    weight\n",
       "0  chrI      0   10000  0.005593\n",
       "1  chrI  10000   20000       NaN\n",
       "2  chrI  20000   30000       NaN\n",
       "3  chrI  30000   40000       NaN\n",
       "4  chrI  40000   50000  0.004846\n",
       "5  chrI  50000   60000  0.004110\n",
       "6  chrI  60000   70000  0.004249\n",
       "7  chrI  70000   80000  0.004334\n",
       "8  chrI  80000   90000  0.004020\n",
       "9  chrI  90000  100000  0.004049"
      ]
     },
     "execution_count": 65,
     "metadata": {},
     "output_type": "execute_result"
    }
   ],
   "source": [
    "data_dir = 'cooler_out'\n",
    "# Open cool file with Micro-C data:\n",
    "clr = cooler.Cooler(data_dir + '/HiC1.mcool::/resolutions/10000')\n",
    "resolution = clr.binsize\n",
    "clr.bins()[:10]"
   ]
  },
  {
   "cell_type": "markdown",
   "id": "80e40a5c-ac34-406c-979e-3d4e4fe358a6",
   "metadata": {},
   "source": [
    "## Load feature"
   ]
  },
  {
   "cell_type": "code",
   "execution_count": 54,
   "id": "257c7dec-ea84-4626-883f-6e011de46fa5",
   "metadata": {},
   "outputs": [
    {
     "data": {
      "text/html": [
       "<div>\n",
       "<style scoped>\n",
       "    .dataframe tbody tr th:only-of-type {\n",
       "        vertical-align: middle;\n",
       "    }\n",
       "\n",
       "    .dataframe tbody tr th {\n",
       "        vertical-align: top;\n",
       "    }\n",
       "\n",
       "    .dataframe thead th {\n",
       "        text-align: right;\n",
       "    }\n",
       "</style>\n",
       "<table border=\"1\" class=\"dataframe\">\n",
       "  <thead>\n",
       "    <tr style=\"text-align: right;\">\n",
       "      <th></th>\n",
       "      <th>chrom</th>\n",
       "      <th>start</th>\n",
       "      <th>end</th>\n",
       "      <th>name</th>\n",
       "      <th>score</th>\n",
       "      <th>strand</th>\n",
       "      <th>mid</th>\n",
       "    </tr>\n",
       "  </thead>\n",
       "  <tbody>\n",
       "    <tr>\n",
       "      <th>0</th>\n",
       "      <td>chrI</td>\n",
       "      <td>160506</td>\n",
       "      <td>160623</td>\n",
       "      <td>NaN</td>\n",
       "      <td>NaN</td>\n",
       "      <td>NaN</td>\n",
       "      <td>160564</td>\n",
       "    </tr>\n",
       "    <tr>\n",
       "      <th>1</th>\n",
       "      <td>chrII</td>\n",
       "      <td>229855</td>\n",
       "      <td>229971</td>\n",
       "      <td>NaN</td>\n",
       "      <td>NaN</td>\n",
       "      <td>NaN</td>\n",
       "      <td>229913</td>\n",
       "    </tr>\n",
       "    <tr>\n",
       "      <th>2</th>\n",
       "      <td>chrIII</td>\n",
       "      <td>119146</td>\n",
       "      <td>119262</td>\n",
       "      <td>NaN</td>\n",
       "      <td>NaN</td>\n",
       "      <td>NaN</td>\n",
       "      <td>119204</td>\n",
       "    </tr>\n",
       "    <tr>\n",
       "      <th>3</th>\n",
       "      <td>chrIV</td>\n",
       "      <td>461938</td>\n",
       "      <td>462053</td>\n",
       "      <td>NaN</td>\n",
       "      <td>NaN</td>\n",
       "      <td>NaN</td>\n",
       "      <td>461995</td>\n",
       "    </tr>\n",
       "    <tr>\n",
       "      <th>4</th>\n",
       "      <td>chrV</td>\n",
       "      <td>156659</td>\n",
       "      <td>156776</td>\n",
       "      <td>NaN</td>\n",
       "      <td>NaN</td>\n",
       "      <td>NaN</td>\n",
       "      <td>156717</td>\n",
       "    </tr>\n",
       "  </tbody>\n",
       "</table>\n",
       "</div>"
      ],
      "text/plain": [
       "    chrom   start     end  name  score  strand     mid\n",
       "0    chrI  160506  160623   NaN    NaN     NaN  160564\n",
       "1   chrII  229855  229971   NaN    NaN     NaN  229913\n",
       "2  chrIII  119146  119262   NaN    NaN     NaN  119204\n",
       "3   chrIV  461938  462053   NaN    NaN     NaN  461995\n",
       "4    chrV  156659  156776   NaN    NaN     NaN  156717"
      ]
     },
     "execution_count": 54,
     "metadata": {},
     "output_type": "execute_result"
    }
   ],
   "source": [
    "cens = bioframe.read_table('sk1_cen.bed', schema='bed')\n",
    "cens['mid'] = (cens.end + cens.start)//2\n",
    "cens.head()"
   ]
  },
  {
   "cell_type": "code",
   "execution_count": 55,
   "id": "978e40d7-4469-4475-838a-e3c7c26f6ba6",
   "metadata": {},
   "outputs": [
    {
     "data": {
      "text/plain": [
       "chrI       258084\n",
       "chrII      804360\n",
       "chrIII     336578\n",
       "chrIV     1530282\n",
       "chrV       591864\n",
       "Name: length, dtype: int64"
      ]
     },
     "execution_count": 55,
     "metadata": {},
     "output_type": "execute_result"
    }
   ],
   "source": [
    "df = bioframe.read_table('SK1.chrom.sizes')\n",
    "data = np.copy(df[1])\n",
    "index = np.copy(df[0])\n",
    "chromsizes = pd.Series(data, index)\n",
    "chromsizes = chromsizes[:-2]\n",
    "chromsizes.name = 'length'\n",
    "chromsizes.head()"
   ]
  },
  {
   "cell_type": "code",
   "execution_count": 56,
   "id": "c9c57227-ee58-448b-bf35-123e45b32632",
   "metadata": {},
   "outputs": [],
   "source": [
    "# hg38_chromsizes = bioframe.fetch_chromsizes('hg38')\n",
    "# hg38_chromsizes.head()\n",
    "# hg38_cens = bioframe.fetch_centromeres('hg38')\n",
    "# hg38_cens.head()\n",
    "# hg38_arms = bioframe.make_chromarms(hg38_chromsizes, hg38_cens)\n",
    "# hg38_arms.head()"
   ]
  },
  {
   "cell_type": "code",
   "execution_count": 57,
   "id": "d904bba0-39f9-495b-84de-dca5ea74d2ec",
   "metadata": {},
   "outputs": [
    {
     "data": {
      "text/html": [
       "<div>\n",
       "<style scoped>\n",
       "    .dataframe tbody tr th:only-of-type {\n",
       "        vertical-align: middle;\n",
       "    }\n",
       "\n",
       "    .dataframe tbody tr th {\n",
       "        vertical-align: top;\n",
       "    }\n",
       "\n",
       "    .dataframe thead th {\n",
       "        text-align: right;\n",
       "    }\n",
       "</style>\n",
       "<table border=\"1\" class=\"dataframe\">\n",
       "  <thead>\n",
       "    <tr style=\"text-align: right;\">\n",
       "      <th></th>\n",
       "      <th>chrom</th>\n",
       "      <th>start</th>\n",
       "      <th>end</th>\n",
       "      <th>name</th>\n",
       "    </tr>\n",
       "  </thead>\n",
       "  <tbody>\n",
       "    <tr>\n",
       "      <th>0</th>\n",
       "      <td>chrI</td>\n",
       "      <td>0</td>\n",
       "      <td>160564</td>\n",
       "      <td>chrI_p</td>\n",
       "    </tr>\n",
       "    <tr>\n",
       "      <th>1</th>\n",
       "      <td>chrI</td>\n",
       "      <td>160564</td>\n",
       "      <td>258084</td>\n",
       "      <td>chrI_q</td>\n",
       "    </tr>\n",
       "    <tr>\n",
       "      <th>2</th>\n",
       "      <td>chrII</td>\n",
       "      <td>0</td>\n",
       "      <td>229913</td>\n",
       "      <td>chrII_p</td>\n",
       "    </tr>\n",
       "    <tr>\n",
       "      <th>3</th>\n",
       "      <td>chrII</td>\n",
       "      <td>229913</td>\n",
       "      <td>804360</td>\n",
       "      <td>chrII_q</td>\n",
       "    </tr>\n",
       "    <tr>\n",
       "      <th>4</th>\n",
       "      <td>chrIII</td>\n",
       "      <td>0</td>\n",
       "      <td>119204</td>\n",
       "      <td>chrIII_p</td>\n",
       "    </tr>\n",
       "  </tbody>\n",
       "</table>\n",
       "</div>"
      ],
      "text/plain": [
       "    chrom   start     end      name\n",
       "0    chrI       0  160564    chrI_p\n",
       "1    chrI  160564  258084    chrI_q\n",
       "2   chrII       0  229913   chrII_p\n",
       "3   chrII  229913  804360   chrII_q\n",
       "4  chrIII       0  119204  chrIII_p"
      ]
     },
     "execution_count": 57,
     "metadata": {},
     "output_type": "execute_result"
    }
   ],
   "source": [
    "arms = bioframe.make_chromarms(chromsizes, cens)\n",
    "arms.head()"
   ]
  },
  {
   "cell_type": "markdown",
   "id": "efc97d33-5517-4baa-9b34-47fff5aeabab",
   "metadata": {},
   "source": [
    "## Feature inspection and filtering"
   ]
  },
  {
   "cell_type": "code",
   "execution_count": 58,
   "id": "0799f79f-cafe-48b4-b09a-a9bf4c4deea5",
   "metadata": {},
   "outputs": [],
   "source": [
    "sites = cens"
   ]
  },
  {
   "cell_type": "markdown",
   "id": "dd9be9cb-b558-4f01-9dcc-d0f3546392b7",
   "metadata": {},
   "source": [
    "## On-diagonal pileup"
   ]
  },
  {
   "cell_type": "code",
   "execution_count": 59,
   "id": "4f62ea5c-15ea-44ad-a469-91fd5ccc7b1b",
   "metadata": {},
   "outputs": [],
   "source": [
    "stack = cooltools.pileup(clr, sites, view_df=arms, flank=flank)\n",
    "mtx = np.nanmean(stack, axis=2)"
   ]
  },
  {
   "cell_type": "code",
   "execution_count": 60,
   "id": "d9d6c9d2-ec4d-4061-aecc-a623e51d6709",
   "metadata": {},
   "outputs": [],
   "source": [
    "# Load colormap with large number of distinguishable intermediary tones,\n",
    "# The \"fall\" colormap in cooltools is exactly for this purpose.\n",
    "# After this step, you can use \"fall\" as cmap parameter in matplotlib:\n",
    "import cooltools.lib.plotting"
   ]
  },
  {
   "cell_type": "code",
   "execution_count": 62,
   "id": "5e23c14e-76f1-4d92-8341-34cc36df2803",
   "metadata": {},
   "outputs": [
    {
     "name": "stderr",
     "output_type": "stream",
     "text": [
      "/var/folders/sx/cg2lr_vj0x387p3v3l2qbp080000gn/T/ipykernel_66636/3545046044.py:2: RuntimeWarning: divide by zero encountered in log10\n",
      "  np.log10(mtx),\n"
     ]
    },
    {
     "data": {
      "image/png": "[encoded data removed]",
      "text/plain": [
       "<Figure size 640x480 with 2 Axes>"
      ]
     },
     "metadata": {},
     "output_type": "display_data"
    }
   ],
   "source": [
    "plt.imshow(\n",
    "    np.log10(mtx),\n",
    "    vmin = -3,\n",
    "    vmax = -1,\n",
    "    cmap='fall',\n",
    "    interpolation='none')\n",
    "\n",
    "plt.colorbar(label = 'log10 mean ICed Hi-C')\n",
    "ticks_pixels = np.linspace(0, flank*2//resolution, 5)\n",
    "ticks_kbp = ((ticks_pixels-ticks_pixels[-1]/2)*resolution//1000).astype(int)\n",
    "plt.xticks(ticks_pixels, ticks_kbp)\n",
    "plt.yticks(ticks_pixels, ticks_kbp)\n",
    "plt.xlabel('relative position, kbp')\n",
    "plt.ylabel('relative position, kbp')\n",
    "\n",
    "plt.show()"
   ]
  },
  {
   "cell_type": "code",
   "execution_count": null,
   "id": "6262c414-b54a-4475-a67b-b2d4d03a5c10",
   "metadata": {},
   "outputs": [],
   "source": []
  }
 ],
 "metadata": {
  "kernelspec": {
   "display_name": "Python (hic_pileup)",
   "language": "python",
   "name": "hic_pileup"
  },
  "language_info": {
   "codemirror_mode": {
    "name": "ipython",
    "version": 3
   },
   "file_extension": ".py",
   "mimetype": "text/x-python",
   "name": "python",
   "nbconvert_exporter": "python",
   "pygments_lexer": "ipython3",
   "version": "3.10.12"
  }
 },
 "nbformat": 4,
 "nbformat_minor": 5
}
